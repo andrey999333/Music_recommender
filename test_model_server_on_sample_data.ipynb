{
 "cells": [
  {
   "cell_type": "markdown",
   "metadata": {},
   "source": [
    "## Testing the REST API of the model serving on the sample data\n",
    "\n",
    "Use this notebook for testing the model on the sample data provided in the repo."
   ]
  },
  {
   "cell_type": "code",
   "execution_count": 9,
   "metadata": {},
   "outputs": [],
   "source": [
    "import pandas as pd\n",
    "import requests\n",
    "import numpy as np"
   ]
  },
  {
   "cell_type": "markdown",
   "metadata": {},
   "source": [
    "#### Load test data"
   ]
  },
  {
   "cell_type": "code",
   "execution_count": 10,
   "metadata": {},
   "outputs": [],
   "source": [
    "df = pd.read_csv('./sample_data/sample_data.csv')"
   ]
  },
  {
   "cell_type": "markdown",
   "metadata": {},
   "source": [
    "#### Create generator to generate batches of data for sending to model server"
   ]
  },
  {
   "cell_type": "code",
   "execution_count": 11,
   "metadata": {},
   "outputs": [],
   "source": [
    "def create_data_batch_gen(batch_size,df):    \n",
    "    for i in range(df.shape[0]//batch_size):\n",
    "        data_dict={}\n",
    "        for feature in df.columns:\n",
    "            data_dict[feature]=list(df[feature].iloc[i*batch_size:(i+1)*batch_size])\n",
    "        yield data_dict"
   ]
  },
  {
   "cell_type": "code",
   "execution_count": 12,
   "metadata": {},
   "outputs": [],
   "source": [
    "gen=create_data_batch_gen(120,df)"
   ]
  },
  {
   "cell_type": "markdown",
   "metadata": {},
   "source": [
    "#### Generate the data batch to send to the server"
   ]
  },
  {
   "cell_type": "code",
   "execution_count": 13,
   "metadata": {},
   "outputs": [],
   "source": [
    "data = next(gen)"
   ]
  },
  {
   "cell_type": "markdown",
   "metadata": {},
   "source": [
    "#### Send request to the server"
   ]
  },
  {
   "cell_type": "code",
   "execution_count": 14,
   "metadata": {},
   "outputs": [],
   "source": [
    "r = requests.post('http://127.0.0.1:5000/prediction', json=data)"
   ]
  },
  {
   "cell_type": "markdown",
   "metadata": {},
   "source": [
    "#### Display server response with model predictions"
   ]
  },
  {
   "cell_type": "code",
   "execution_count": 15,
   "metadata": {},
   "outputs": [
    {
     "data": {
      "text/plain": [
       "b'[\\n  0, \\n  1, \\n  1, \\n  1, \\n  0, \\n  1, \\n  1, \\n  0, \\n  1, \\n  0, \\n  0, \\n  0, \\n  0, \\n  1, \\n  1, \\n  0, \\n  0, \\n  1, \\n  0, \\n  1, \\n  0, \\n  0, \\n  1, \\n  1, \\n  0, \\n  0, \\n  1, \\n  1, \\n  1, \\n  0, \\n  0, \\n  1, \\n  0, \\n  0, \\n  1, \\n  1, \\n  1, \\n  1, \\n  0, \\n  1, \\n  1, \\n  1, \\n  0, \\n  0, \\n  0, \\n  1, \\n  0, \\n  1, \\n  1, \\n  1, \\n  0, \\n  1, \\n  1, \\n  1, \\n  1, \\n  1, \\n  1, \\n  0, \\n  1, \\n  1, \\n  0, \\n  1, \\n  0, \\n  0, \\n  0, \\n  1, \\n  0, \\n  1, \\n  0, \\n  1, \\n  1, \\n  1, \\n  0, \\n  1, \\n  0, \\n  0, \\n  1, \\n  1, \\n  0, \\n  0, \\n  1, \\n  1, \\n  1, \\n  1, \\n  0, \\n  0, \\n  1, \\n  0, \\n  1, \\n  1, \\n  1, \\n  0, \\n  0, \\n  1, \\n  1, \\n  0, \\n  0, \\n  1, \\n  1, \\n  1, \\n  1, \\n  1, \\n  0, \\n  1, \\n  0, \\n  0, \\n  1, \\n  0, \\n  1, \\n  0, \\n  0, \\n  0, \\n  0, \\n  1, \\n  0, \\n  0, \\n  0, \\n  0, \\n  0, \\n  0\\n]\\n'"
      ]
     },
     "execution_count": 15,
     "metadata": {},
     "output_type": "execute_result"
    }
   ],
   "source": [
    "r.content"
   ]
  },
  {
   "cell_type": "code",
   "execution_count": null,
   "metadata": {},
   "outputs": [],
   "source": []
  }
 ],
 "metadata": {
  "kernelspec": {
   "display_name": "Python 3",
   "language": "python",
   "name": "python3"
  },
  "language_info": {
   "codemirror_mode": {
    "name": "ipython",
    "version": 3
   },
   "file_extension": ".py",
   "mimetype": "text/x-python",
   "name": "python",
   "nbconvert_exporter": "python",
   "pygments_lexer": "ipython3",
   "version": "3.6.6"
  }
 },
 "nbformat": 4,
 "nbformat_minor": 2
}
